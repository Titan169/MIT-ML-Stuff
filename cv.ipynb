{
 "cells": [
  {
   "cell_type": "code",
   "execution_count": 1,
   "id": "dfb19697",
   "metadata": {},
   "outputs": [],
   "source": [
    "import cv2 as cv\n",
    "import numpy as np"
   ]
  },
  {
   "cell_type": "code",
   "execution_count": 2,
   "id": "e34ed65e",
   "metadata": {},
   "outputs": [],
   "source": [
    "img = cv.imread(\"C:/Users/Balaji/Pictures/download (1).jpg\")"
   ]
  },
  {
   "cell_type": "code",
   "execution_count": 3,
   "id": "dbcc1217",
   "metadata": {},
   "outputs": [],
   "source": [
    "cv.imshow(\"Image\",img)"
   ]
  },
  {
   "cell_type": "code",
   "execution_count": null,
   "id": "59a371b0",
   "metadata": {},
   "outputs": [],
   "source": []
  }
 ],
 "metadata": {
  "kernelspec": {
   "display_name": "Python 3 (ipykernel)",
   "language": "python",
   "name": "python3"
  },
  "language_info": {
   "codemirror_mode": {
    "name": "ipython",
    "version": 3
   },
   "file_extension": ".py",
   "mimetype": "text/x-python",
   "name": "python",
   "nbconvert_exporter": "python",
   "pygments_lexer": "ipython3",
   "version": "3.9.7"
  }
 },
 "nbformat": 4,
 "nbformat_minor": 5
}
