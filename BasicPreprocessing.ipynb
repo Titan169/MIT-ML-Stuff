{
 "cells": [
  {
   "cell_type": "code",
   "execution_count": 19,
   "id": "4b4e594a",
   "metadata": {},
   "outputs": [],
   "source": [
    "import numpy as np\n",
    "import pandas as pd\n",
    "\n",
    "from sklearn import preprocessing , datasets\n",
    "from sklearn.model_selection import train_test_split\n",
    "from sklearn.metrics import accuracy_score, confusion_matrix\n",
    "from sklearn.preprocessing import StandardScaler, Normalizer , LabelEncoder\n",
    "from sklearn.neural_network import MLPClassifier, MLPRegressor"
   ]
  },
  {
   "cell_type": "code",
   "execution_count": 2,
   "id": "71779511",
   "metadata": {},
   "outputs": [
    {
     "name": "stdout",
     "output_type": "stream",
     "text": [
      "[[0.90070427 0.08998196 0.68231117 0.76165762 0.16280593]\n",
      " [0.30485977 0.02190799 0.04360326 0.36744491 0.70558126]\n",
      " [0.29224109 0.76608439 0.14433724 0.21460072 0.26506906]\n",
      " [0.12168862 0.18062911 0.58739106 0.0298715  0.38275593]\n",
      " [0.4962708  0.61251046 0.3203793  0.2928387  0.87238786]\n",
      " [0.41983203 0.63599988 0.29474268 0.75972678 0.21647524]\n",
      " [0.22868663 0.92599508 0.3290376  0.09118247 0.26790834]\n",
      " [0.28018623 0.91970223 0.92744708 0.71224487 0.670703  ]\n",
      " [0.90950293 0.56675221 0.6892355  0.08191425 0.35265036]\n",
      " [0.45951156 0.99095735 0.53919957 0.96198918 0.96857525]]\n"
     ]
    }
   ],
   "source": [
    "x=np.random.random((10,5))  #dataset creation\n",
    "print(x)"
   ]
  },
  {
   "cell_type": "code",
   "execution_count": 3,
   "id": "83be82eb",
   "metadata": {},
   "outputs": [
    {
     "data": {
      "text/plain": [
       "array(['M', 'F', 'N', 'F', 'M', 'N', 'F', 'N', 'M', 'N'], dtype='<U1')"
      ]
     },
     "execution_count": 3,
     "metadata": {},
     "output_type": "execute_result"
    }
   ],
   "source": [
    "y=np.array(['M','F','N','F','M','N','F','N','M','N'])\n",
    "y"
   ]
  },
  {
   "cell_type": "code",
   "execution_count": 4,
   "id": "df7bfb0c",
   "metadata": {},
   "outputs": [
    {
     "name": "stdout",
     "output_type": "stream",
     "text": [
      "(10, 5)\n",
      "(10,)\n"
     ]
    }
   ],
   "source": [
    "print(x.shape)\n",
    "print(y.shape)"
   ]
  },
  {
   "cell_type": "code",
   "execution_count": 5,
   "id": "3ec9649e",
   "metadata": {},
   "outputs": [],
   "source": [
    "x_train, x_test , y_train , y_test = train_test_split(x, y, test_size=0.3, random_state=0)"
   ]
  },
  {
   "cell_type": "code",
   "execution_count": 6,
   "id": "2361b79b",
   "metadata": {},
   "outputs": [],
   "source": [
    "scaler = StandardScaler()       #preprocessing"
   ]
  },
  {
   "cell_type": "code",
   "execution_count": 9,
   "id": "554f3064",
   "metadata": {},
   "outputs": [],
   "source": [
    "a=np.array([1,2,3,4,5,30,50])                     #1)Standardization "
   ]
  },
  {
   "cell_type": "code",
   "execution_count": 10,
   "id": "ed9ed12c",
   "metadata": {},
   "outputs": [
    {
     "name": "stdout",
     "output_type": "stream",
     "text": [
      "Mean: 13.571428571428571\n",
      "SD:  17.589421681853015\n"
     ]
    }
   ],
   "source": [
    "print(\"Mean:\",a.mean())\n",
    "print(\"SD: \",a.std())"
   ]
  },
  {
   "cell_type": "code",
   "execution_count": 11,
   "id": "a5f38567",
   "metadata": {},
   "outputs": [],
   "source": [
    "#a_std=scaler.fit_transform(a.reshape(-1,1))\n",
    "#print(\"Mean:\",a.mean())\n",
    "#print(\"SD: \",a.std())\n",
    "\n",
    "xtrain_std=scaler.fit_transform(x_train)\n",
    "xtest_std=scaler.transform(x_test)\n"
   ]
  },
  {
   "cell_type": "code",
   "execution_count": 12,
   "id": "3801f0e5",
   "metadata": {},
   "outputs": [
    {
     "name": "stdout",
     "output_type": "stream",
     "text": [
      "-1.586032892321652e-17 0.9686114724629642\n"
     ]
    }
   ],
   "source": [
    "print(xtrain_std.mean(), xtest_std.std())"
   ]
  },
  {
   "cell_type": "code",
   "execution_count": 13,
   "id": "2faab07a",
   "metadata": {},
   "outputs": [],
   "source": [
    "from sklearn.preprocessing import LabelEncoder\n",
    "enco=LabelEncoder()"
   ]
  },
  {
   "cell_type": "code",
   "execution_count": 16,
   "id": "db8b0a79",
   "metadata": {},
   "outputs": [
    {
     "data": {
      "text/plain": [
       "array([1, 0, 0], dtype=int64)"
      ]
     },
     "execution_count": 16,
     "metadata": {},
     "output_type": "execute_result"
    }
   ],
   "source": [
    "y_enc=enco.fit_transform(y_train)\n",
    "yt_enc = enco.fit_transform(y_test)\n",
    "yt_enc"
   ]
  },
  {
   "cell_type": "code",
   "execution_count": 17,
   "id": "ebd8c2af",
   "metadata": {},
   "outputs": [],
   "source": [
    "#unsupervised\n",
    "\n",
    "from sklearn.cluster import KMeans\n",
    "from sklearn.decomposition import PCA\n"
   ]
  },
  {
   "cell_type": "code",
   "execution_count": 20,
   "id": "c14463ca",
   "metadata": {},
   "outputs": [
    {
     "name": "stdout",
     "output_type": "stream",
     "text": [
      "(7, 5) (7,)\n"
     ]
    },
    {
     "name": "stderr",
     "output_type": "stream",
     "text": [
      "C:\\ProgramData\\Anaconda3\\lib\\site-packages\\sklearn\\neural_network\\_multilayer_perceptron.py:614: ConvergenceWarning: Stochastic Optimizer: Maximum iterations (200) reached and the optimization hasn't converged yet.\n",
      "  warnings.warn(\n"
     ]
    },
    {
     "data": {
      "text/plain": [
       "MLPClassifier()"
      ]
     },
     "execution_count": 20,
     "metadata": {},
     "output_type": "execute_result"
    }
   ],
   "source": [
    "#MOdel fitting\n",
    "\n",
    "mlp = MLPClassifier()\n",
    "print(xtrain_std.shape , y_enc.shape)\n",
    "\n",
    "mlp.fit(xtrain_std,y_enc)"
   ]
  },
  {
   "cell_type": "code",
   "execution_count": 22,
   "id": "c8b234e2",
   "metadata": {},
   "outputs": [
    {
     "name": "stdout",
     "output_type": "stream",
     "text": [
      "100.0\n",
      "33.33333333333333\n"
     ]
    }
   ],
   "source": [
    "print(mlp.score(xtrain_std, y_enc)*100)\n",
    "print(mlp.score(xtest_std,yt_enc )*100)"
   ]
  },
  {
   "cell_type": "code",
   "execution_count": 23,
   "id": "6eda3d97",
   "metadata": {},
   "outputs": [
    {
     "name": "stdout",
     "output_type": "stream",
     "text": [
      "[2 2 2]\n"
     ]
    }
   ],
   "source": [
    "y_pred = mlp.predict(x_test)\n",
    "print(y_pred)\n"
   ]
  },
  {
   "cell_type": "code",
   "execution_count": 24,
   "id": "b9563121",
   "metadata": {},
   "outputs": [],
   "source": [
    "from sklearn.metrics import classification_report"
   ]
  },
  {
   "cell_type": "code",
   "execution_count": 28,
   "id": "c3636de0",
   "metadata": {},
   "outputs": [
    {
     "name": "stdout",
     "output_type": "stream",
     "text": [
      "[[0 0 2]\n",
      " [0 0 1]\n",
      " [0 0 0]]\n"
     ]
    }
   ],
   "source": [
    "cm = confusion_matrix(yt_enc, y_pred)\n",
    "print(cm)"
   ]
  },
  {
   "cell_type": "code",
   "execution_count": 29,
   "id": "c5f110b0",
   "metadata": {},
   "outputs": [
    {
     "name": "stdout",
     "output_type": "stream",
     "text": [
      "              precision    recall  f1-score   support\n",
      "\n",
      "           0       0.00      0.00      0.00       2.0\n",
      "           1       0.00      0.00      0.00       1.0\n",
      "           2       0.00      0.00      0.00       0.0\n",
      "\n",
      "    accuracy                           0.00       3.0\n",
      "   macro avg       0.00      0.00      0.00       3.0\n",
      "weighted avg       0.00      0.00      0.00       3.0\n",
      "\n"
     ]
    },
    {
     "name": "stderr",
     "output_type": "stream",
     "text": [
      "C:\\ProgramData\\Anaconda3\\lib\\site-packages\\sklearn\\metrics\\_classification.py:1248: UndefinedMetricWarning: Precision and F-score are ill-defined and being set to 0.0 in labels with no predicted samples. Use `zero_division` parameter to control this behavior.\n",
      "  _warn_prf(average, modifier, msg_start, len(result))\n",
      "C:\\ProgramData\\Anaconda3\\lib\\site-packages\\sklearn\\metrics\\_classification.py:1248: UndefinedMetricWarning: Recall and F-score are ill-defined and being set to 0.0 in labels with no true samples. Use `zero_division` parameter to control this behavior.\n",
      "  _warn_prf(average, modifier, msg_start, len(result))\n",
      "C:\\ProgramData\\Anaconda3\\lib\\site-packages\\sklearn\\metrics\\_classification.py:1248: UndefinedMetricWarning: Precision and F-score are ill-defined and being set to 0.0 in labels with no predicted samples. Use `zero_division` parameter to control this behavior.\n",
      "  _warn_prf(average, modifier, msg_start, len(result))\n",
      "C:\\ProgramData\\Anaconda3\\lib\\site-packages\\sklearn\\metrics\\_classification.py:1248: UndefinedMetricWarning: Recall and F-score are ill-defined and being set to 0.0 in labels with no true samples. Use `zero_division` parameter to control this behavior.\n",
      "  _warn_prf(average, modifier, msg_start, len(result))\n",
      "C:\\ProgramData\\Anaconda3\\lib\\site-packages\\sklearn\\metrics\\_classification.py:1248: UndefinedMetricWarning: Precision and F-score are ill-defined and being set to 0.0 in labels with no predicted samples. Use `zero_division` parameter to control this behavior.\n",
      "  _warn_prf(average, modifier, msg_start, len(result))\n",
      "C:\\ProgramData\\Anaconda3\\lib\\site-packages\\sklearn\\metrics\\_classification.py:1248: UndefinedMetricWarning: Recall and F-score are ill-defined and being set to 0.0 in labels with no true samples. Use `zero_division` parameter to control this behavior.\n",
      "  _warn_prf(average, modifier, msg_start, len(result))\n"
     ]
    }
   ],
   "source": [
    "cr = classification_report(yt_enc, y_pred)\n",
    "print(cr)"
   ]
  },
  {
   "cell_type": "code",
   "execution_count": null,
   "id": "8d583110",
   "metadata": {},
   "outputs": [],
   "source": []
  }
 ],
 "metadata": {
  "kernelspec": {
   "display_name": "Python 3 (ipykernel)",
   "language": "python",
   "name": "python3"
  },
  "language_info": {
   "codemirror_mode": {
    "name": "ipython",
    "version": 3
   },
   "file_extension": ".py",
   "mimetype": "text/x-python",
   "name": "python",
   "nbconvert_exporter": "python",
   "pygments_lexer": "ipython3",
   "version": "3.9.7"
  }
 },
 "nbformat": 4,
 "nbformat_minor": 5
}
